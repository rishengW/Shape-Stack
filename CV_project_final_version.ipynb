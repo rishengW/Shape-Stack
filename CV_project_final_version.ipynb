{
  "cells": [
    {
      "cell_type": "code",
      "execution_count": null,
      "metadata": {
        "colab": {
          "base_uri": "https://localhost:8080/"
        },
        "id": "hBw08O9XliSM",
        "outputId": "a8184abb-ecd4-4e94-a9d4-72ae02c11c88"
      },
      "outputs": [
        {
          "name": "stdout",
          "output_type": "stream",
          "text": [
            "Mounted at /content/drive\n"
          ]
        }
      ],
      "source": [
        "from google.colab import drive\n",
        "drive.mount('/content/drive')"
      ]
    },
    {
      "cell_type": "markdown",
      "metadata": {
        "id": "35J8_jY0biDw"
      },
      "source": [
        "**Data Loading and Preprocessing**"
      ]
    },
    {
      "cell_type": "code",
      "execution_count": null,
      "metadata": {
        "id": "SvMPRUWwQXWX"
      },
      "outputs": [],
      "source": [
        "import os\n",
        "import pandas as pd\n",
        "import numpy as np\n",
        "img_dir = '/content/drive/MyDrive/Colab Notebooks/train/'\n",
        "train_data_source = \"/content/drive/MyDrive/Colab Notebooks/train.csv\"\n",
        "test_dir = '/content/drive/MyDrive/Colab Notebooks/test/'\n",
        "test_data_source = \"/content/drive/MyDrive/Colab Notebooks/test.csv\"\n",
        "\n",
        "img_names =  sorted(os.listdir(img_dir), key=lambda x: int(x.split('.')[0]))\n",
        "test_image_names =  sorted(os.listdir(test_dir), key=lambda x: int(x.split('.')[0]))\n",
        "img_data_df = pd.read_csv(train_data_source)\n",
        "img_data_df['image_name'] = img_names\n",
        "test_data_df = pd.read_csv(test_data_source)\n",
        "test_data_df['image_name'] = test_image_names\n",
        "\n",
        "num_classes = 6\n",
        "img_data_df['actual_stable_height'] = img_data_df['stable_height'] - 1\n",
        "img_data_df['actual_stable_height'] = img_data_df['actual_stable_height'].astype(str)"
      ]
    },
    {
      "cell_type": "code",
      "execution_count": 18,
      "metadata": {
        "id": "EnnPx0PIQZLn"
      },
      "outputs": [],
      "source": [
        "from tensorflow.keras.applications.resnet50 import ResNet50, preprocess_input  # Import ResNet and preprocess_input\n",
        "from tensorflow.keras.applications import EfficientNetB0\n",
        "from tensorflow.keras.applications.efficientnet import preprocess_input, decode_predictions\n",
        "from tensorflow.keras.applications import VGG16, VGG19\n",
        "from tensorflow.keras.preprocessing import image\n",
        "from tensorflow.keras.applications.vgg16 import preprocess_input, decode_predictions\n",
        "from sklearn.model_selection import train_test_split\n",
        "from tensorflow.keras.preprocessing.image import ImageDataGenerator\n",
        "\n",
        "train, validation = train_test_split(img_data_df, test_size=0.2, random_state=42)\n",
        "\n",
        "data_generator = ImageDataGenerator(\n",
        "    rescale=1./128,\n",
        "    width_shift_range=0.05,\n",
        "    height_shift_range=0.05,\n",
        "    zoom_range=0.1,\n",
        "    horizontal_flip=True,\n",
        "    preprocessing_function=preprocess_input\n",
        ")\n",
        "\n",
        "train_data = data_generator.flow_from_dataframe(\n",
        "    dataframe=train,\n",
        "    directory=img_dir,\n",
        "    x_col='image_name',\n",
        "    y_col='actual_stable_height',\n",
        "    target_size=(224, 224),\n",
        "    batch_size=32,\n",
        "    class_mode='categorical',\n",
        "    shuffle=False\n",
        ")\n",
        "\n",
        "validation_data = data_generator.flow_from_dataframe(\n",
        "    dataframe=validation,\n",
        "    directory=img_dir,\n",
        "    x_col='image_name',\n",
        "    y_col='actual_stable_height',\n",
        "    target_size=(224, 224),\n",
        "    batch_size=32,\n",
        "    class_mode='categorical',\n",
        "    shuffle=False\n",
        ")\n",
        "\n",
        "data_generator = ImageDataGenerator(\n",
        "    rescale=1./128,\n",
        "    preprocessing_function=preprocess_input\n",
        ")\n",
        "\n",
        "data_test = data_generator.flow_from_dataframe(\n",
        "    dataframe=test_data_df,\n",
        "    directory=test_dir,\n",
        "    x_col='image_name',\n",
        "    y_col=None,\n",
        "    target_size=(224, 224),\n",
        "    batch_size=32,\n",
        "    class_mode=None,\n",
        "    shuffle=False\n",
        ")\n",
        "\n",
        "images, labels = next(train_data)\n",
        "train_batch_size = train_data.batch_size\n",
        "train_batch_idx = train_data.batch_index - 1\n",
        "start_idx =  train_batch_idx * train_batch_size\n",
        "\n",
        "for i in range(len(images)):\n",
        "    label = labels[i]\n",
        "    image = images[i]\n",
        "    image_name = train_data.filenames[start_idx + i]\n",
        "    image = image * 128\n",
        "\n",
        "images = next(data_test)\n",
        "batch_size_test = data_test.batch_size\n",
        "test_batch_idx = data_test.batch_index - 1\n",
        "start_idx = test_batch_idx * batch_size_test\n",
        "\n",
        "for i in range(len(images)):\n",
        "    image = images[i]\n",
        "    image_name = data_test.filenames[start_idx + i]\n",
        "    image = image * 128"
      ]
    },
    {
      "cell_type": "markdown",
      "metadata": {
        "id": "wCZDu82CbpBm"
      },
      "source": [
        "# Build Models"
      ]
    },
    {
      "cell_type": "markdown",
      "metadata": {
        "id": "dAr_xLOvcIPX"
      },
      "source": [
        "**Train and Predict**"
      ]
    },
    {
      "cell_type": "code",
      "execution_count": 12,
      "metadata": {
        "id": "0_UUH-wsEGGC"
      },
      "outputs": [],
      "source": [
        "from tensorflow.keras.applications import VGG16, ResNet50, MobileNetV2, InceptionResNetV2\n",
        "from tensorflow.keras import layers, Model\n",
        "from tensorflow.keras.callbacks import EarlyStopping\n",
        "import tensorflow as tf\n",
        "\n",
        "# Load base models without the top and set layers to trainable\n",
        "base_model1 = VGG16(weights=None, include_top=False, input_shape=(224, 224, 3))\n",
        "base_model2 = VGG19(weights=None, include_top=False, input_shape=(224, 224, 3))\n",
        "base_model3 = ResNet50(weights=None, include_top=False, input_shape=(224, 224, 3))\n",
        "base_model4 = MobileNetV2(weights=None, include_top=False, input_shape=(224, 224, 3))\n",
        "base_model5 = InceptionResNetV2(weights=None, include_top=False, input_shape=(224, 224, 3))\n",
        "\n",
        "for layer in base_model1.layers:\n",
        "    layer.trainable = True\n",
        "for layer in base_model2.layers:\n",
        "    layer.trainable = True\n",
        "for layer in base_model3.layers:\n",
        "    layer.trainable = True\n",
        "for layer in base_model4.layers:\n",
        "    layer.trainable = True\n",
        "for layer in base_model5.layers:\n",
        "    layer.trainable = True"
      ]
    },
    {
      "cell_type": "code",
      "execution_count": 13,
      "metadata": {
        "id": "vZsyPdFsEJTD"
      },
      "outputs": [],
      "source": [
        "# Add custom layers on top of the base model\n",
        "model1 = tf.keras.Sequential([\n",
        "    base_model1,\n",
        "    tf.keras.layers.GlobalAveragePooling2D(),\n",
        "    tf.keras.layers.Dense(200, activation='relu'),\n",
        "    tf.keras.layers.Dropout(0.2),\n",
        "    tf.keras.layers.Dense(6, activation='softmax')\n",
        "])"
      ]
    },
    {
      "cell_type": "code",
      "execution_count": 14,
      "metadata": {
        "id": "-QifFBB8E8kj"
      },
      "outputs": [],
      "source": [
        "model1.compile(optimizer=tf.keras.optimizers.RMSprop(learning_rate=0.0001), loss='categorical_crossentropy', metrics=['accuracy'])\n",
        "callbacks = [EarlyStopping(monitor='val_loss', patience=10, restore_best_weights=True)]"
      ]
    },
    {
      "cell_type": "code",
      "execution_count": 15,
      "metadata": {
        "colab": {
          "base_uri": "https://localhost:8080/"
        },
        "id": "FFBNgX1ZE_tL",
        "outputId": "b071353f-9168-4a03-d084-d4861701b4d3"
      },
      "outputs": [
        {
          "name": "stdout",
          "output_type": "stream",
          "text": [
            "Epoch 1/200\n"
          ]
        },
        {
          "name": "stderr",
          "output_type": "stream",
          "text": [
            "/usr/local/lib/python3.10/dist-packages/keras/src/trainers/data_adapters/py_dataset_adapter.py:121: UserWarning: Your `PyDataset` class should call `super().__init__(**kwargs)` in its constructor. `**kwargs` can include `workers`, `use_multiprocessing`, `max_queue_size`. Do not pass these arguments to `fit()`, as they will be ignored.\n",
            "  self._warn_if_super_not_called()\n"
          ]
        },
        {
          "name": "stdout",
          "output_type": "stream",
          "text": [
            "\u001b[1m192/192\u001b[0m \u001b[32m━━━━━━━━━━━━━━━━━━━━\u001b[0m\u001b[37m\u001b[0m \u001b[1m4959s\u001b[0m 25s/step - accuracy: 0.2448 - loss: 1.7264 - val_accuracy: 0.2415 - val_loss: 1.7059\n",
            "Epoch 2/200\n",
            "\u001b[1m192/192\u001b[0m \u001b[32m━━━━━━━━━━━━━━━━━━━━\u001b[0m\u001b[37m\u001b[0m \u001b[1m92s\u001b[0m 466ms/step - accuracy: 0.2452 - loss: 1.6919 - val_accuracy: 0.2415 - val_loss: 1.7059\n",
            "Epoch 3/200\n",
            "\u001b[1m192/192\u001b[0m \u001b[32m━━━━━━━━━━━━━━━━━━━━\u001b[0m\u001b[37m\u001b[0m \u001b[1m93s\u001b[0m 469ms/step - accuracy: 0.2498 - loss: 1.6720 - val_accuracy: 0.2415 - val_loss: 1.7038\n",
            "Epoch 4/200\n",
            "\u001b[1m192/192\u001b[0m \u001b[32m━━━━━━━━━━━━━━━━━━━━\u001b[0m\u001b[37m\u001b[0m \u001b[1m91s\u001b[0m 460ms/step - accuracy: 0.2561 - loss: 1.6706 - val_accuracy: 0.2539 - val_loss: 1.6680\n",
            "Epoch 5/200\n",
            "\u001b[1m192/192\u001b[0m \u001b[32m━━━━━━━━━━━━━━━━━━━━\u001b[0m\u001b[37m\u001b[0m \u001b[1m91s\u001b[0m 461ms/step - accuracy: 0.2474 - loss: 1.6376 - val_accuracy: 0.2526 - val_loss: 1.6051\n",
            "Epoch 6/200\n",
            "\u001b[1m192/192\u001b[0m \u001b[32m━━━━━━━━━━━━━━━━━━━━\u001b[0m\u001b[37m\u001b[0m \u001b[1m92s\u001b[0m 464ms/step - accuracy: 0.2510 - loss: 1.6036 - val_accuracy: 0.2376 - val_loss: 1.5884\n",
            "Epoch 7/200\n",
            "\u001b[1m192/192\u001b[0m \u001b[32m━━━━━━━━━━━━━━━━━━━━\u001b[0m\u001b[37m\u001b[0m \u001b[1m91s\u001b[0m 461ms/step - accuracy: 0.2520 - loss: 1.5898 - val_accuracy: 0.2533 - val_loss: 1.6073\n",
            "Epoch 8/200\n",
            "\u001b[1m192/192\u001b[0m \u001b[32m━━━━━━━━━━━━━━━━━━━━\u001b[0m\u001b[37m\u001b[0m \u001b[1m92s\u001b[0m 463ms/step - accuracy: 0.2454 - loss: 1.5720 - val_accuracy: 0.2441 - val_loss: 1.5936\n",
            "Epoch 9/200\n",
            "\u001b[1m192/192\u001b[0m \u001b[32m━━━━━━━━━━━━━━━━━━━━\u001b[0m\u001b[37m\u001b[0m \u001b[1m91s\u001b[0m 462ms/step - accuracy: 0.2459 - loss: 1.5757 - val_accuracy: 0.2422 - val_loss: 1.5721\n",
            "Epoch 10/200\n",
            "\u001b[1m192/192\u001b[0m \u001b[32m━━━━━━━━━━━━━━━━━━━━\u001b[0m\u001b[37m\u001b[0m \u001b[1m91s\u001b[0m 462ms/step - accuracy: 0.2579 - loss: 1.5656 - val_accuracy: 0.2467 - val_loss: 1.5649\n",
            "Epoch 11/200\n",
            "\u001b[1m192/192\u001b[0m \u001b[32m━━━━━━━━━━━━━━━━━━━━\u001b[0m\u001b[37m\u001b[0m \u001b[1m92s\u001b[0m 467ms/step - accuracy: 0.2670 - loss: 1.5544 - val_accuracy: 0.2454 - val_loss: 1.5759\n",
            "Epoch 12/200\n",
            "\u001b[1m192/192\u001b[0m \u001b[32m━━━━━━━━━━━━━━━━━━━━\u001b[0m\u001b[37m\u001b[0m \u001b[1m91s\u001b[0m 462ms/step - accuracy: 0.2608 - loss: 1.5601 - val_accuracy: 0.2546 - val_loss: 1.5600\n",
            "Epoch 13/200\n",
            "\u001b[1m192/192\u001b[0m \u001b[32m━━━━━━━━━━━━━━━━━━━━\u001b[0m\u001b[37m\u001b[0m \u001b[1m91s\u001b[0m 462ms/step - accuracy: 0.2682 - loss: 1.5539 - val_accuracy: 0.2546 - val_loss: 1.5541\n",
            "Epoch 14/200\n",
            "\u001b[1m192/192\u001b[0m \u001b[32m━━━━━━━━━━━━━━━━━━━━\u001b[0m\u001b[37m\u001b[0m \u001b[1m90s\u001b[0m 458ms/step - accuracy: 0.2463 - loss: 1.5487 - val_accuracy: 0.2689 - val_loss: 1.5731\n",
            "Epoch 15/200\n",
            "\u001b[1m192/192\u001b[0m \u001b[32m━━━━━━━━━━━━━━━━━━━━\u001b[0m\u001b[37m\u001b[0m \u001b[1m91s\u001b[0m 460ms/step - accuracy: 0.2560 - loss: 1.5539 - val_accuracy: 0.2552 - val_loss: 1.5515\n",
            "Epoch 16/200\n",
            "\u001b[1m192/192\u001b[0m \u001b[32m━━━━━━━━━━━━━━━━━━━━\u001b[0m\u001b[37m\u001b[0m \u001b[1m92s\u001b[0m 466ms/step - accuracy: 0.2546 - loss: 1.5463 - val_accuracy: 0.2467 - val_loss: 1.5462\n",
            "Epoch 17/200\n",
            "\u001b[1m192/192\u001b[0m \u001b[32m━━━━━━━━━━━━━━━━━━━━\u001b[0m\u001b[37m\u001b[0m \u001b[1m91s\u001b[0m 462ms/step - accuracy: 0.2594 - loss: 1.5482 - val_accuracy: 0.2487 - val_loss: 1.5428\n",
            "Epoch 18/200\n",
            "\u001b[1m192/192\u001b[0m \u001b[32m━━━━━━━━━━━━━━━━━━━━\u001b[0m\u001b[37m\u001b[0m \u001b[1m91s\u001b[0m 461ms/step - accuracy: 0.2617 - loss: 1.5531 - val_accuracy: 0.2539 - val_loss: 1.5423\n",
            "Epoch 19/200\n",
            "\u001b[1m192/192\u001b[0m \u001b[32m━━━━━━━━━━━━━━━━━━━━\u001b[0m\u001b[37m\u001b[0m \u001b[1m91s\u001b[0m 458ms/step - accuracy: 0.2595 - loss: 1.5463 - val_accuracy: 0.2708 - val_loss: 1.5412\n",
            "Epoch 20/200\n",
            "\u001b[1m192/192\u001b[0m \u001b[32m━━━━━━━━━━━━━━━━━━━━\u001b[0m\u001b[37m\u001b[0m \u001b[1m91s\u001b[0m 462ms/step - accuracy: 0.2742 - loss: 1.5332 - val_accuracy: 0.2539 - val_loss: 1.5399\n",
            "Epoch 21/200\n",
            "\u001b[1m192/192\u001b[0m \u001b[32m━━━━━━━━━━━━━━━━━━━━\u001b[0m\u001b[37m\u001b[0m \u001b[1m91s\u001b[0m 461ms/step - accuracy: 0.2540 - loss: 1.5445 - val_accuracy: 0.2565 - val_loss: 1.5461\n",
            "Epoch 22/200\n",
            "\u001b[1m192/192\u001b[0m \u001b[32m━━━━━━━━━━━━━━━━━━━━\u001b[0m\u001b[37m\u001b[0m \u001b[1m91s\u001b[0m 460ms/step - accuracy: 0.2574 - loss: 1.5381 - val_accuracy: 0.2572 - val_loss: 1.5372\n",
            "Epoch 23/200\n",
            "\u001b[1m192/192\u001b[0m \u001b[32m━━━━━━━━━━━━━━━━━━━━\u001b[0m\u001b[37m\u001b[0m \u001b[1m91s\u001b[0m 458ms/step - accuracy: 0.2662 - loss: 1.5324 - val_accuracy: 0.2520 - val_loss: 1.5838\n",
            "Epoch 24/200\n",
            "\u001b[1m192/192\u001b[0m \u001b[32m━━━━━━━━━━━━━━━━━━━━\u001b[0m\u001b[37m\u001b[0m \u001b[1m91s\u001b[0m 463ms/step - accuracy: 0.2769 - loss: 1.5498 - val_accuracy: 0.2702 - val_loss: 1.5289\n",
            "Epoch 25/200\n",
            "\u001b[1m192/192\u001b[0m \u001b[32m━━━━━━━━━━━━━━━━━━━━\u001b[0m\u001b[37m\u001b[0m \u001b[1m91s\u001b[0m 460ms/step - accuracy: 0.2906 - loss: 1.5267 - val_accuracy: 0.2669 - val_loss: 1.5383\n",
            "Epoch 26/200\n",
            "\u001b[1m192/192\u001b[0m \u001b[32m━━━━━━━━━━━━━━━━━━━━\u001b[0m\u001b[37m\u001b[0m \u001b[1m91s\u001b[0m 462ms/step - accuracy: 0.2771 - loss: 1.5222 - val_accuracy: 0.2767 - val_loss: 1.5188\n",
            "Epoch 27/200\n",
            "\u001b[1m192/192\u001b[0m \u001b[32m━━━━━━━━━━━━━━━━━━━━\u001b[0m\u001b[37m\u001b[0m \u001b[1m91s\u001b[0m 460ms/step - accuracy: 0.2993 - loss: 1.5130 - val_accuracy: 0.3086 - val_loss: 1.5017\n",
            "Epoch 28/200\n",
            "\u001b[1m192/192\u001b[0m \u001b[32m━━━━━━━━━━━━━━━━━━━━\u001b[0m\u001b[37m\u001b[0m \u001b[1m91s\u001b[0m 460ms/step - accuracy: 0.3156 - loss: 1.5092 - val_accuracy: 0.3053 - val_loss: 1.5101\n",
            "Epoch 29/200\n",
            "\u001b[1m192/192\u001b[0m \u001b[32m━━━━━━━━━━━━━━━━━━━━\u001b[0m\u001b[37m\u001b[0m \u001b[1m90s\u001b[0m 457ms/step - accuracy: 0.3135 - loss: 1.5029 - val_accuracy: 0.3639 - val_loss: 1.4856\n",
            "Epoch 30/200\n",
            "\u001b[1m192/192\u001b[0m \u001b[32m━━━━━━━━━━━━━━━━━━━━\u001b[0m\u001b[37m\u001b[0m \u001b[1m91s\u001b[0m 460ms/step - accuracy: 0.3507 - loss: 1.4698 - val_accuracy: 0.3483 - val_loss: 1.4731\n",
            "Epoch 31/200\n",
            "\u001b[1m192/192\u001b[0m \u001b[32m━━━━━━━━━━━━━━━━━━━━\u001b[0m\u001b[37m\u001b[0m \u001b[1m92s\u001b[0m 466ms/step - accuracy: 0.3682 - loss: 1.4490 - val_accuracy: 0.3424 - val_loss: 1.4625\n",
            "Epoch 32/200\n",
            "\u001b[1m192/192\u001b[0m \u001b[32m━━━━━━━━━━━━━━━━━━━━\u001b[0m\u001b[37m\u001b[0m \u001b[1m91s\u001b[0m 459ms/step - accuracy: 0.3835 - loss: 1.4366 - val_accuracy: 0.3828 - val_loss: 1.4009\n",
            "Epoch 33/200\n",
            "\u001b[1m192/192\u001b[0m \u001b[32m━━━━━━━━━━━━━━━━━━━━\u001b[0m\u001b[37m\u001b[0m \u001b[1m91s\u001b[0m 459ms/step - accuracy: 0.4074 - loss: 1.4172 - val_accuracy: 0.3730 - val_loss: 1.4711\n",
            "Epoch 34/200\n",
            "\u001b[1m192/192\u001b[0m \u001b[32m━━━━━━━━━━━━━━━━━━━━\u001b[0m\u001b[37m\u001b[0m \u001b[1m91s\u001b[0m 461ms/step - accuracy: 0.4249 - loss: 1.3845 - val_accuracy: 0.4128 - val_loss: 1.3576\n",
            "Epoch 35/200\n",
            "\u001b[1m192/192\u001b[0m \u001b[32m━━━━━━━━━━━━━━━━━━━━\u001b[0m\u001b[37m\u001b[0m \u001b[1m92s\u001b[0m 463ms/step - accuracy: 0.4235 - loss: 1.3740 - val_accuracy: 0.4395 - val_loss: 1.3321\n",
            "Epoch 36/200\n",
            "\u001b[1m192/192\u001b[0m \u001b[32m━━━━━━━━━━━━━━━━━━━━\u001b[0m\u001b[37m\u001b[0m \u001b[1m91s\u001b[0m 459ms/step - accuracy: 0.4476 - loss: 1.3312 - val_accuracy: 0.4238 - val_loss: 1.3669\n",
            "Epoch 37/200\n",
            "\u001b[1m192/192\u001b[0m \u001b[32m━━━━━━━━━━━━━━━━━━━━\u001b[0m\u001b[37m\u001b[0m \u001b[1m92s\u001b[0m 464ms/step - accuracy: 0.4520 - loss: 1.3176 - val_accuracy: 0.4505 - val_loss: 1.3236\n",
            "Epoch 38/200\n",
            "\u001b[1m192/192\u001b[0m \u001b[32m━━━━━━━━━━━━━━━━━━━━\u001b[0m\u001b[37m\u001b[0m \u001b[1m91s\u001b[0m 462ms/step - accuracy: 0.4694 - loss: 1.2972 - val_accuracy: 0.4753 - val_loss: 1.2807\n",
            "Epoch 39/200\n",
            "\u001b[1m192/192\u001b[0m \u001b[32m━━━━━━━━━━━━━━━━━━━━\u001b[0m\u001b[37m\u001b[0m \u001b[1m91s\u001b[0m 460ms/step - accuracy: 0.4732 - loss: 1.2951 - val_accuracy: 0.4570 - val_loss: 1.3000\n",
            "Epoch 40/200\n",
            "\u001b[1m192/192\u001b[0m \u001b[32m━━━━━━━━━━━━━━━━━━━━\u001b[0m\u001b[37m\u001b[0m \u001b[1m91s\u001b[0m 463ms/step - accuracy: 0.4739 - loss: 1.2690 - val_accuracy: 0.4974 - val_loss: 1.2205\n",
            "Epoch 41/200\n",
            "\u001b[1m192/192\u001b[0m \u001b[32m━━━━━━━━━━━━━━━━━━━━\u001b[0m\u001b[37m\u001b[0m \u001b[1m91s\u001b[0m 460ms/step - accuracy: 0.5068 - loss: 1.2255 - val_accuracy: 0.4779 - val_loss: 1.2760\n",
            "Epoch 42/200\n",
            "\u001b[1m192/192\u001b[0m \u001b[32m━━━━━━━━━━━━━━━━━━━━\u001b[0m\u001b[37m\u001b[0m \u001b[1m91s\u001b[0m 463ms/step - accuracy: 0.5128 - loss: 1.1983 - val_accuracy: 0.4961 - val_loss: 1.2205\n",
            "Epoch 43/200\n",
            "\u001b[1m192/192\u001b[0m \u001b[32m━━━━━━━━━━━━━━━━━━━━\u001b[0m\u001b[37m\u001b[0m \u001b[1m91s\u001b[0m 461ms/step - accuracy: 0.5133 - loss: 1.1861 - val_accuracy: 0.5332 - val_loss: 1.1220\n",
            "Epoch 44/200\n",
            "\u001b[1m192/192\u001b[0m \u001b[32m━━━━━━━━━━━━━━━━━━━━\u001b[0m\u001b[37m\u001b[0m \u001b[1m92s\u001b[0m 464ms/step - accuracy: 0.5342 - loss: 1.1568 - val_accuracy: 0.5273 - val_loss: 1.1567\n",
            "Epoch 45/200\n",
            "\u001b[1m192/192\u001b[0m \u001b[32m━━━━━━━━━━━━━━━━━━━━\u001b[0m\u001b[37m\u001b[0m \u001b[1m91s\u001b[0m 459ms/step - accuracy: 0.5419 - loss: 1.1376 - val_accuracy: 0.5176 - val_loss: 1.1689\n",
            "Epoch 46/200\n",
            "\u001b[1m192/192\u001b[0m \u001b[32m━━━━━━━━━━━━━━━━━━━━\u001b[0m\u001b[37m\u001b[0m \u001b[1m92s\u001b[0m 463ms/step - accuracy: 0.5526 - loss: 1.1183 - val_accuracy: 0.5456 - val_loss: 1.1102\n",
            "Epoch 47/200\n",
            "\u001b[1m192/192\u001b[0m \u001b[32m━━━━━━━━━━━━━━━━━━━━\u001b[0m\u001b[37m\u001b[0m \u001b[1m92s\u001b[0m 467ms/step - accuracy: 0.5705 - loss: 1.0879 - val_accuracy: 0.5501 - val_loss: 1.1138\n",
            "Epoch 48/200\n",
            "\u001b[1m192/192\u001b[0m \u001b[32m━━━━━━━━━━━━━━━━━━━━\u001b[0m\u001b[37m\u001b[0m \u001b[1m92s\u001b[0m 464ms/step - accuracy: 0.5725 - loss: 1.0592 - val_accuracy: 0.5482 - val_loss: 1.1096\n",
            "Epoch 49/200\n",
            "\u001b[1m192/192\u001b[0m \u001b[32m━━━━━━━━━━━━━━━━━━━━\u001b[0m\u001b[37m\u001b[0m \u001b[1m91s\u001b[0m 460ms/step - accuracy: 0.5755 - loss: 1.0611 - val_accuracy: 0.5716 - val_loss: 1.0736\n",
            "Epoch 50/200\n",
            "\u001b[1m192/192\u001b[0m \u001b[32m━━━━━━━━━━━━━━━━━━━━\u001b[0m\u001b[37m\u001b[0m \u001b[1m92s\u001b[0m 464ms/step - accuracy: 0.5931 - loss: 1.0324 - val_accuracy: 0.5645 - val_loss: 1.0648\n",
            "Epoch 51/200\n",
            "\u001b[1m192/192\u001b[0m \u001b[32m━━━━━━━━━━━━━━━━━━━━\u001b[0m\u001b[37m\u001b[0m \u001b[1m91s\u001b[0m 463ms/step - accuracy: 0.6129 - loss: 0.9960 - val_accuracy: 0.5944 - val_loss: 1.0327\n",
            "Epoch 52/200\n",
            "\u001b[1m192/192\u001b[0m \u001b[32m━━━━━━━━━━━━━━━━━━━━\u001b[0m\u001b[37m\u001b[0m \u001b[1m91s\u001b[0m 460ms/step - accuracy: 0.6025 - loss: 1.0117 - val_accuracy: 0.5430 - val_loss: 1.1725\n",
            "Epoch 53/200\n",
            "\u001b[1m192/192\u001b[0m \u001b[32m━━━━━━━━━━━━━━━━━━━━\u001b[0m\u001b[37m\u001b[0m \u001b[1m91s\u001b[0m 462ms/step - accuracy: 0.6146 - loss: 0.9825 - val_accuracy: 0.5729 - val_loss: 1.0321\n",
            "Epoch 54/200\n",
            "\u001b[1m192/192\u001b[0m \u001b[32m━━━━━━━━━━━━━━━━━━━━\u001b[0m\u001b[37m\u001b[0m \u001b[1m92s\u001b[0m 465ms/step - accuracy: 0.6195 - loss: 0.9687 - val_accuracy: 0.6022 - val_loss: 0.9812\n",
            "Epoch 55/200\n",
            "\u001b[1m192/192\u001b[0m \u001b[32m━━━━━━━━━━━━━━━━━━━━\u001b[0m\u001b[37m\u001b[0m \u001b[1m91s\u001b[0m 459ms/step - accuracy: 0.6273 - loss: 0.9354 - val_accuracy: 0.5990 - val_loss: 1.0007\n",
            "Epoch 56/200\n",
            "\u001b[1m192/192\u001b[0m \u001b[32m━━━━━━━━━━━━━━━━━━━━\u001b[0m\u001b[37m\u001b[0m \u001b[1m92s\u001b[0m 464ms/step - accuracy: 0.6293 - loss: 0.9324 - val_accuracy: 0.6022 - val_loss: 0.9614\n",
            "Epoch 57/200\n",
            "\u001b[1m192/192\u001b[0m \u001b[32m━━━━━━━━━━━━━━━━━━━━\u001b[0m\u001b[37m\u001b[0m \u001b[1m92s\u001b[0m 465ms/step - accuracy: 0.6434 - loss: 0.9238 - val_accuracy: 0.6100 - val_loss: 1.0153\n",
            "Epoch 58/200\n",
            "\u001b[1m192/192\u001b[0m \u001b[32m━━━━━━━━━━━━━━━━━━━━\u001b[0m\u001b[37m\u001b[0m \u001b[1m91s\u001b[0m 462ms/step - accuracy: 0.6415 - loss: 0.9181 - val_accuracy: 0.5951 - val_loss: 0.9825\n",
            "Epoch 59/200\n",
            "\u001b[1m192/192\u001b[0m \u001b[32m━━━━━━━━━━━━━━━━━━━━\u001b[0m\u001b[37m\u001b[0m \u001b[1m91s\u001b[0m 460ms/step - accuracy: 0.6539 - loss: 0.8937 - val_accuracy: 0.6237 - val_loss: 0.9634\n",
            "Epoch 60/200\n",
            "\u001b[1m192/192\u001b[0m \u001b[32m━━━━━━━━━━━━━━━━━━━━\u001b[0m\u001b[37m\u001b[0m \u001b[1m91s\u001b[0m 460ms/step - accuracy: 0.6613 - loss: 0.8814 - val_accuracy: 0.5885 - val_loss: 1.1191\n",
            "Epoch 61/200\n",
            "\u001b[1m192/192\u001b[0m \u001b[32m━━━━━━━━━━━━━━━━━━━━\u001b[0m\u001b[37m\u001b[0m \u001b[1m91s\u001b[0m 460ms/step - accuracy: 0.6573 - loss: 0.8839 - val_accuracy: 0.5931 - val_loss: 0.9944\n",
            "Epoch 62/200\n",
            "\u001b[1m192/192\u001b[0m \u001b[32m━━━━━━━━━━━━━━━━━━━━\u001b[0m\u001b[37m\u001b[0m \u001b[1m91s\u001b[0m 459ms/step - accuracy: 0.6732 - loss: 0.8580 - val_accuracy: 0.6094 - val_loss: 0.9623\n",
            "Epoch 63/200\n",
            "\u001b[1m192/192\u001b[0m \u001b[32m━━━━━━━━━━━━━━━━━━━━\u001b[0m\u001b[37m\u001b[0m \u001b[1m91s\u001b[0m 459ms/step - accuracy: 0.6764 - loss: 0.8250 - val_accuracy: 0.5990 - val_loss: 1.0493\n",
            "Epoch 64/200\n",
            "\u001b[1m192/192\u001b[0m \u001b[32m━━━━━━━━━━━━━━━━━━━━\u001b[0m\u001b[37m\u001b[0m \u001b[1m92s\u001b[0m 466ms/step - accuracy: 0.6759 - loss: 0.8424 - val_accuracy: 0.6146 - val_loss: 0.9981\n",
            "Epoch 65/200\n",
            "\u001b[1m192/192\u001b[0m \u001b[32m━━━━━━━━━━━━━━━━━━━━\u001b[0m\u001b[37m\u001b[0m \u001b[1m91s\u001b[0m 458ms/step - accuracy: 0.6786 - loss: 0.8439 - val_accuracy: 0.6172 - val_loss: 1.0027\n",
            "Epoch 66/200\n",
            "\u001b[1m192/192\u001b[0m \u001b[32m━━━━━━━━━━━━━━━━━━━━\u001b[0m\u001b[37m\u001b[0m \u001b[1m91s\u001b[0m 461ms/step - accuracy: 0.6943 - loss: 0.8021 - val_accuracy: 0.6126 - val_loss: 0.9516\n",
            "Epoch 67/200\n",
            "\u001b[1m192/192\u001b[0m \u001b[32m━━━━━━━━━━━━━━━━━━━━\u001b[0m\u001b[37m\u001b[0m \u001b[1m91s\u001b[0m 461ms/step - accuracy: 0.6995 - loss: 0.7809 - val_accuracy: 0.5924 - val_loss: 1.0492\n",
            "Epoch 68/200\n",
            "\u001b[1m192/192\u001b[0m \u001b[32m━━━━━━━━━━━━━━━━━━━━\u001b[0m\u001b[37m\u001b[0m \u001b[1m91s\u001b[0m 462ms/step - accuracy: 0.6972 - loss: 0.7991 - val_accuracy: 0.6354 - val_loss: 0.9504\n",
            "Epoch 69/200\n",
            "\u001b[1m192/192\u001b[0m \u001b[32m━━━━━━━━━━━━━━━━━━━━\u001b[0m\u001b[37m\u001b[0m \u001b[1m91s\u001b[0m 458ms/step - accuracy: 0.7030 - loss: 0.7711 - val_accuracy: 0.6341 - val_loss: 0.9570\n",
            "Epoch 70/200\n",
            "\u001b[1m192/192\u001b[0m \u001b[32m━━━━━━━━━━━━━━━━━━━━\u001b[0m\u001b[37m\u001b[0m \u001b[1m91s\u001b[0m 462ms/step - accuracy: 0.7079 - loss: 0.7553 - val_accuracy: 0.6224 - val_loss: 0.9432\n",
            "Epoch 71/200\n",
            "\u001b[1m192/192\u001b[0m \u001b[32m━━━━━━━━━━━━━━━━━━━━\u001b[0m\u001b[37m\u001b[0m \u001b[1m91s\u001b[0m 460ms/step - accuracy: 0.7146 - loss: 0.7293 - val_accuracy: 0.6198 - val_loss: 0.9990\n",
            "Epoch 72/200\n",
            "\u001b[1m192/192\u001b[0m \u001b[32m━━━━━━━━━━━━━━━━━━━━\u001b[0m\u001b[37m\u001b[0m \u001b[1m91s\u001b[0m 459ms/step - accuracy: 0.7289 - loss: 0.7098 - val_accuracy: 0.6165 - val_loss: 0.9603\n",
            "Epoch 73/200\n",
            "\u001b[1m192/192\u001b[0m \u001b[32m━━━━━━━━━━━━━━━━━━━━\u001b[0m\u001b[37m\u001b[0m \u001b[1m91s\u001b[0m 458ms/step - accuracy: 0.7189 - loss: 0.7425 - val_accuracy: 0.6322 - val_loss: 0.9467\n",
            "Epoch 74/200\n",
            "\u001b[1m192/192\u001b[0m \u001b[32m━━━━━━━━━━━━━━━━━━━━\u001b[0m\u001b[37m\u001b[0m \u001b[1m91s\u001b[0m 460ms/step - accuracy: 0.7234 - loss: 0.7177 - val_accuracy: 0.6250 - val_loss: 0.9955\n",
            "Epoch 75/200\n",
            "\u001b[1m192/192\u001b[0m \u001b[32m━━━━━━━━━━━━━━━━━━━━\u001b[0m\u001b[37m\u001b[0m \u001b[1m91s\u001b[0m 459ms/step - accuracy: 0.7313 - loss: 0.7110 - val_accuracy: 0.6263 - val_loss: 1.1208\n",
            "Epoch 76/200\n",
            "\u001b[1m192/192\u001b[0m \u001b[32m━━━━━━━━━━━━━━━━━━━━\u001b[0m\u001b[37m\u001b[0m \u001b[1m91s\u001b[0m 460ms/step - accuracy: 0.7358 - loss: 0.6859 - val_accuracy: 0.6257 - val_loss: 0.9621\n",
            "Epoch 77/200\n",
            "\u001b[1m192/192\u001b[0m \u001b[32m━━━━━━━━━━━━━━━━━━━━\u001b[0m\u001b[37m\u001b[0m \u001b[1m92s\u001b[0m 465ms/step - accuracy: 0.7595 - loss: 0.6610 - val_accuracy: 0.6263 - val_loss: 1.0212\n",
            "Epoch 78/200\n",
            "\u001b[1m192/192\u001b[0m \u001b[32m━━━━━━━━━━━━━━━━━━━━\u001b[0m\u001b[37m\u001b[0m \u001b[1m91s\u001b[0m 459ms/step - accuracy: 0.7467 - loss: 0.6702 - val_accuracy: 0.6296 - val_loss: 0.9560\n",
            "Epoch 79/200\n",
            "\u001b[1m192/192\u001b[0m \u001b[32m━━━━━━━━━━━━━━━━━━━━\u001b[0m\u001b[37m\u001b[0m \u001b[1m91s\u001b[0m 461ms/step - accuracy: 0.7521 - loss: 0.6477 - val_accuracy: 0.6445 - val_loss: 0.9305\n",
            "Epoch 80/200\n",
            "\u001b[1m192/192\u001b[0m \u001b[32m━━━━━━━━━━━━━━━━━━━━\u001b[0m\u001b[37m\u001b[0m \u001b[1m91s\u001b[0m 459ms/step - accuracy: 0.7435 - loss: 0.6588 - val_accuracy: 0.6335 - val_loss: 0.9851\n",
            "Epoch 81/200\n",
            "\u001b[1m192/192\u001b[0m \u001b[32m━━━━━━━━━━━━━━━━━━━━\u001b[0m\u001b[37m\u001b[0m \u001b[1m91s\u001b[0m 458ms/step - accuracy: 0.7612 - loss: 0.6270 - val_accuracy: 0.6276 - val_loss: 1.0612\n",
            "Epoch 82/200\n",
            "\u001b[1m192/192\u001b[0m \u001b[32m━━━━━━━━━━━━━━━━━━━━\u001b[0m\u001b[37m\u001b[0m \u001b[1m91s\u001b[0m 460ms/step - accuracy: 0.7611 - loss: 0.6329 - val_accuracy: 0.6465 - val_loss: 0.9517\n",
            "Epoch 83/200\n",
            "\u001b[1m192/192\u001b[0m \u001b[32m━━━━━━━━━━━━━━━━━━━━\u001b[0m\u001b[37m\u001b[0m \u001b[1m90s\u001b[0m 457ms/step - accuracy: 0.7720 - loss: 0.6068 - val_accuracy: 0.6426 - val_loss: 1.0201\n",
            "Epoch 84/200\n",
            "\u001b[1m192/192\u001b[0m \u001b[32m━━━━━━━━━━━━━━━━━━━━\u001b[0m\u001b[37m\u001b[0m \u001b[1m91s\u001b[0m 459ms/step - accuracy: 0.7675 - loss: 0.6244 - val_accuracy: 0.6426 - val_loss: 1.0658\n",
            "Epoch 85/200\n",
            "\u001b[1m192/192\u001b[0m \u001b[32m━━━━━━━━━━━━━━━━━━━━\u001b[0m\u001b[37m\u001b[0m \u001b[1m90s\u001b[0m 455ms/step - accuracy: 0.7673 - loss: 0.6080 - val_accuracy: 0.6354 - val_loss: 1.0846\n",
            "Epoch 86/200\n",
            "\u001b[1m192/192\u001b[0m \u001b[32m━━━━━━━━━━━━━━━━━━━━\u001b[0m\u001b[37m\u001b[0m \u001b[1m91s\u001b[0m 462ms/step - accuracy: 0.7894 - loss: 0.5751 - val_accuracy: 0.6243 - val_loss: 1.0352\n",
            "Epoch 87/200\n",
            "\u001b[1m192/192\u001b[0m \u001b[32m━━━━━━━━━━━━━━━━━━━━\u001b[0m\u001b[37m\u001b[0m \u001b[1m92s\u001b[0m 464ms/step - accuracy: 0.7824 - loss: 0.5754 - val_accuracy: 0.6374 - val_loss: 0.9915\n",
            "Epoch 88/200\n",
            "\u001b[1m192/192\u001b[0m \u001b[32m━━━━━━━━━━━━━━━━━━━━\u001b[0m\u001b[37m\u001b[0m \u001b[1m93s\u001b[0m 470ms/step - accuracy: 0.7885 - loss: 0.5631 - val_accuracy: 0.6393 - val_loss: 1.0566\n",
            "Epoch 89/200\n",
            "\u001b[1m192/192\u001b[0m \u001b[32m━━━━━━━━━━━━━━━━━━━━\u001b[0m\u001b[37m\u001b[0m \u001b[1m93s\u001b[0m 472ms/step - accuracy: 0.7943 - loss: 0.5476 - val_accuracy: 0.6536 - val_loss: 0.9545\n"
          ]
        }
      ],
      "source": [
        "history = model1.fit(train_data,\n",
        "                    epochs=200,\n",
        "                    validation_data=validation_data,\n",
        "                    callbacks=callbacks)"
      ]
    },
    {
      "cell_type": "code",
      "execution_count": 16,
      "metadata": {
        "colab": {
          "base_uri": "https://localhost:8080/"
        },
        "id": "t0ekEtbg1nQo",
        "outputId": "7fc8aac0-3a3c-4c7c-db3f-414aea686d3e"
      },
      "outputs": [
        {
          "name": "stdout",
          "output_type": "stream",
          "text": [
            "\u001b[1m60/60\u001b[0m \u001b[32m━━━━━━━━━━━━━━━━━━━━\u001b[0m\u001b[37m\u001b[0m \u001b[1m7s\u001b[0m 99ms/step\n"
          ]
        }
      ],
      "source": [
        "predictions = model1.predict(data_test)"
      ]
    },
    {
      "cell_type": "code",
      "execution_count": 17,
      "metadata": {
        "id": "dshdVfcz3XzL"
      },
      "outputs": [],
      "source": [
        "stable_height = np.argmax(predictions, axis=1) + 1\n",
        "\n",
        "output = pd.DataFrame({\n",
        "    'id': test_data_df['id'],\n",
        "    'stable_height': stable_height\n",
        "})\n",
        "\n",
        "output.to_csv('/content/drive/MyDrive/Colab Notebooks/predictions.csv', index=False)"
      ]
    },
    {
      "cell_type": "code",
      "execution_count": null,
      "metadata": {
        "colab": {
          "base_uri": "https://localhost:8080/"
        },
        "id": "wjdanp7D6Giw",
        "outputId": "b598d63d-c1d1-49d1-e9af-588dbda62c9c"
      },
      "outputs": [
        {
          "name": "stdout",
          "output_type": "stream",
          "text": [
            "Epoch 1/100\n",
            "\u001b[1m192/192\u001b[0m \u001b[32m━━━━━━━━━━━━━━━━━━━━\u001b[0m\u001b[37m\u001b[0m \u001b[1m91s\u001b[0m 462ms/step - accuracy: 0.2781 - loss: 1.5983 - val_accuracy: 0.3372 - val_loss: 1.5265\n",
            "Epoch 2/100\n",
            "\u001b[1m192/192\u001b[0m \u001b[32m━━━━━━━━━━━━━━━━━━━━\u001b[0m\u001b[37m\u001b[0m \u001b[1m90s\u001b[0m 457ms/step - accuracy: 0.3569 - loss: 1.4917 - val_accuracy: 0.4049 - val_loss: 1.4350\n",
            "Epoch 3/100\n",
            "\u001b[1m192/192\u001b[0m \u001b[32m━━━━━━━━━━━━━━━━━━━━\u001b[0m\u001b[37m\u001b[0m \u001b[1m91s\u001b[0m 461ms/step - accuracy: 0.3899 - loss: 1.4270 - val_accuracy: 0.4030 - val_loss: 1.3792\n",
            "Epoch 4/100\n",
            "\u001b[1m192/192\u001b[0m \u001b[32m━━━━━━━━━━━━━━━━━━━━\u001b[0m\u001b[37m\u001b[0m \u001b[1m91s\u001b[0m 459ms/step - accuracy: 0.4271 - loss: 1.3671 - val_accuracy: 0.4629 - val_loss: 1.3076\n",
            "Epoch 5/100\n",
            "\u001b[1m192/192\u001b[0m \u001b[32m━━━━━━━━━━━━━━━━━━━━\u001b[0m\u001b[37m\u001b[0m \u001b[1m91s\u001b[0m 460ms/step - accuracy: 0.4439 - loss: 1.3301 - val_accuracy: 0.4655 - val_loss: 1.2929\n",
            "Epoch 6/100\n",
            "\u001b[1m192/192\u001b[0m \u001b[32m━━━━━━━━━━━━━━━━━━━━\u001b[0m\u001b[37m\u001b[0m \u001b[1m90s\u001b[0m 457ms/step - accuracy: 0.4638 - loss: 1.2897 - val_accuracy: 0.4674 - val_loss: 1.2922\n",
            "Epoch 7/100\n",
            "\u001b[1m192/192\u001b[0m \u001b[32m━━━━━━━━━━━━━━━━━━━━\u001b[0m\u001b[37m\u001b[0m \u001b[1m91s\u001b[0m 458ms/step - accuracy: 0.4794 - loss: 1.2500 - val_accuracy: 0.5091 - val_loss: 1.2174\n",
            "Epoch 8/100\n",
            "\u001b[1m192/192\u001b[0m \u001b[32m━━━━━━━━━━━━━━━━━━━━\u001b[0m\u001b[37m\u001b[0m \u001b[1m90s\u001b[0m 456ms/step - accuracy: 0.4888 - loss: 1.2266 - val_accuracy: 0.5117 - val_loss: 1.1966\n",
            "Epoch 9/100\n",
            "\u001b[1m192/192\u001b[0m \u001b[32m━━━━━━━━━━━━━━━━━━━━\u001b[0m\u001b[37m\u001b[0m \u001b[1m91s\u001b[0m 458ms/step - accuracy: 0.5141 - loss: 1.1901 - val_accuracy: 0.5293 - val_loss: 1.1738\n",
            "Epoch 10/100\n",
            "\u001b[1m192/192\u001b[0m \u001b[32m━━━━━━━━━━━━━━━━━━━━\u001b[0m\u001b[37m\u001b[0m \u001b[1m91s\u001b[0m 460ms/step - accuracy: 0.5354 - loss: 1.1395 - val_accuracy: 0.5339 - val_loss: 1.1238\n"
          ]
        }
      ],
      "source": [
        "history = model1.fit(train_data,\n",
        "                    epochs=100,\n",
        "                    validation_data=validation_data,\n",
        "                    callbacks=callbacks)"
      ]
    },
    {
      "cell_type": "code",
      "execution_count": null,
      "metadata": {
        "id": "HZ80YPbN1lgi"
      },
      "outputs": [],
      "source": [
        "model1 = tf.keras.Sequential([\n",
        "    base_model1,\n",
        "    tf.keras.layers.GlobalAveragePooling2D(),\n",
        "    tf.keras.layers.Dense(200, activation='relu'),\n",
        "    tf.keras.layers.Dropout(0.2),\n",
        "    tf.keras.layers.Dense(6, activation='softmax')\n",
        "])"
      ]
    },
    {
      "cell_type": "code",
      "execution_count": null,
      "metadata": {
        "id": "MCbf8V0GspjL"
      },
      "outputs": [],
      "source": [
        "model1.compile(optimizer=tf.keras.optimizers.RMSprop(learning_rate=0.0001), loss='categorical_crossentropy', metrics=['accuracy'])"
      ]
    },
    {
      "cell_type": "code",
      "execution_count": null,
      "metadata": {
        "colab": {
          "base_uri": "https://localhost:8080/"
        },
        "id": "am2uFjwKtvJf",
        "outputId": "ac15ddfc-8bf3-4bfc-e3d2-9c4c09bbf954"
      },
      "outputs": [
        {
          "name": "stdout",
          "output_type": "stream",
          "text": [
            "Epoch 1/100\n",
            "\u001b[1m192/192\u001b[0m \u001b[32m━━━━━━━━━━━━━━━━━━━━\u001b[0m\u001b[37m\u001b[0m \u001b[1m91s\u001b[0m 461ms/step - accuracy: 0.2499 - loss: 1.6705 - val_accuracy: 0.2467 - val_loss: 1.6565\n",
            "Epoch 2/100\n",
            "\u001b[1m192/192\u001b[0m \u001b[32m━━━━━━━━━━━━━━━━━━━━\u001b[0m\u001b[37m\u001b[0m \u001b[1m91s\u001b[0m 461ms/step - accuracy: 0.2904 - loss: 1.6009 - val_accuracy: 0.3418 - val_loss: 1.5411\n",
            "Epoch 3/100\n",
            "\u001b[1m192/192\u001b[0m \u001b[32m━━━━━━━━━━━━━━━━━━━━\u001b[0m\u001b[37m\u001b[0m \u001b[1m91s\u001b[0m 458ms/step - accuracy: 0.3628 - loss: 1.4963 - val_accuracy: 0.4049 - val_loss: 1.4482\n",
            "Epoch 4/100\n",
            "\u001b[1m192/192\u001b[0m \u001b[32m━━━━━━━━━━━━━━━━━━━━\u001b[0m\u001b[37m\u001b[0m \u001b[1m91s\u001b[0m 460ms/step - accuracy: 0.4079 - loss: 1.4152 - val_accuracy: 0.4076 - val_loss: 1.3857\n",
            "Epoch 5/100\n",
            "\u001b[1m192/192\u001b[0m \u001b[32m━━━━━━━━━━━━━━━━━━━━\u001b[0m\u001b[37m\u001b[0m \u001b[1m91s\u001b[0m 461ms/step - accuracy: 0.4459 - loss: 1.3369 - val_accuracy: 0.4486 - val_loss: 1.3350\n",
            "Epoch 6/100\n",
            "\u001b[1m192/192\u001b[0m \u001b[32m━━━━━━━━━━━━━━━━━━━━\u001b[0m\u001b[37m\u001b[0m \u001b[1m90s\u001b[0m 457ms/step - accuracy: 0.4674 - loss: 1.2669 - val_accuracy: 0.5143 - val_loss: 1.2062\n",
            "Epoch 7/100\n",
            "\u001b[1m192/192\u001b[0m \u001b[32m━━━━━━━━━━━━━━━━━━━━\u001b[0m\u001b[37m\u001b[0m \u001b[1m90s\u001b[0m 456ms/step - accuracy: 0.5170 - loss: 1.2076 - val_accuracy: 0.4967 - val_loss: 1.2093\n",
            "Epoch 8/100\n",
            "\u001b[1m192/192\u001b[0m \u001b[32m━━━━━━━━━━━━━━━━━━━━\u001b[0m\u001b[37m\u001b[0m \u001b[1m91s\u001b[0m 460ms/step - accuracy: 0.5462 - loss: 1.1467 - val_accuracy: 0.5306 - val_loss: 1.1571\n",
            "Epoch 9/100\n",
            "\u001b[1m192/192\u001b[0m \u001b[32m━━━━━━━━━━━━━━━━━━━━\u001b[0m\u001b[37m\u001b[0m \u001b[1m91s\u001b[0m 459ms/step - accuracy: 0.5435 - loss: 1.1162 - val_accuracy: 0.5514 - val_loss: 1.1232\n",
            "Epoch 10/100\n",
            "\u001b[1m192/192\u001b[0m \u001b[32m━━━━━━━━━━━━━━━━━━━━\u001b[0m\u001b[37m\u001b[0m \u001b[1m91s\u001b[0m 461ms/step - accuracy: 0.5778 - loss: 1.0621 - val_accuracy: 0.5514 - val_loss: 1.1022\n"
          ]
        }
      ],
      "source": [
        "history = model1.fit(train_data,\n",
        "                    epochs=100,\n",
        "                    validation_data=validation_data,\n",
        "                    callbacks=callbacks)"
      ]
    },
    {
      "cell_type": "markdown",
      "metadata": {
        "id": "PghDqHQOEnP_"
      },
      "source": [
        "**VGG 19**"
      ]
    },
    {
      "cell_type": "code",
      "execution_count": null,
      "metadata": {
        "id": "in78QHlIErV9"
      },
      "outputs": [],
      "source": [
        "model2 =  tf.keras.Sequential([\n",
        "    base_model2,\n",
        "    tf.keras.layers.GlobalAveragePooling2D(),\n",
        "    tf.keras.layers.Dense(200, activation='relu'),\n",
        "    tf.keras.layers.Dropout(0.2),\n",
        "    tf.keras.layers.Dense(6, activation='softmax')\n",
        "])\n",
        "\n",
        "model2.compile(optimizer=tf.keras.optimizers.RMSprop(learning_rate=0.0001), loss='categorical_crossentropy', metrics=['accuracy'])"
      ]
    },
    {
      "cell_type": "code",
      "execution_count": null,
      "metadata": {
        "colab": {
          "base_uri": "https://localhost:8080/"
        },
        "id": "cXFeawIgFCg2",
        "outputId": "b12709be-850c-440d-cc6c-9428e82b95e0"
      },
      "outputs": [
        {
          "name": "stdout",
          "output_type": "stream",
          "text": [
            "Epoch 1/150\n",
            "\u001b[1m192/192\u001b[0m \u001b[32m━━━━━━━━━━━━━━━━━━━━\u001b[0m\u001b[37m\u001b[0m \u001b[1m91s\u001b[0m 459ms/step - accuracy: 0.2369 - loss: 1.6861 - val_accuracy: 0.2415 - val_loss: 1.7036\n",
            "Epoch 2/150\n",
            "\u001b[1m192/192\u001b[0m \u001b[32m━━━━━━━━━━━━━━━━━━━━\u001b[0m\u001b[37m\u001b[0m \u001b[1m91s\u001b[0m 459ms/step - accuracy: 0.2520 - loss: 1.6776 - val_accuracy: 0.2415 - val_loss: 1.7045\n",
            "Epoch 3/150\n",
            "\u001b[1m192/192\u001b[0m \u001b[32m━━━━━━━━━━━━━━━━━━━━\u001b[0m\u001b[37m\u001b[0m \u001b[1m90s\u001b[0m 454ms/step - accuracy: 0.2593 - loss: 1.6650 - val_accuracy: 0.2415 - val_loss: 1.7025\n",
            "Epoch 4/150\n",
            "\u001b[1m192/192\u001b[0m \u001b[32m━━━━━━━━━━━━━━━━━━━━\u001b[0m\u001b[37m\u001b[0m \u001b[1m90s\u001b[0m 455ms/step - accuracy: 0.2579 - loss: 1.6785 - val_accuracy: 0.2402 - val_loss: 1.6837\n",
            "Epoch 5/150\n",
            "\u001b[1m192/192\u001b[0m \u001b[32m━━━━━━━━━━━━━━━━━━━━\u001b[0m\u001b[37m\u001b[0m \u001b[1m90s\u001b[0m 457ms/step - accuracy: 0.2461 - loss: 1.6351 - val_accuracy: 0.2422 - val_loss: 1.6372\n",
            "Epoch 6/150\n",
            "\u001b[1m192/192\u001b[0m \u001b[32m━━━━━━━━━━━━━━━━━━━━\u001b[0m\u001b[37m\u001b[0m \u001b[1m90s\u001b[0m 455ms/step - accuracy: 0.2541 - loss: 1.5987 - val_accuracy: 0.2422 - val_loss: 1.5847\n",
            "Epoch 7/150\n",
            "\u001b[1m192/192\u001b[0m \u001b[32m━━━━━━━━━━━━━━━━━━━━\u001b[0m\u001b[37m\u001b[0m \u001b[1m90s\u001b[0m 453ms/step - accuracy: 0.2567 - loss: 1.5818 - val_accuracy: 0.2409 - val_loss: 1.5853\n",
            "Epoch 8/150\n",
            "\u001b[1m192/192\u001b[0m \u001b[32m━━━━━━━━━━━━━━━━━━━━\u001b[0m\u001b[37m\u001b[0m \u001b[1m90s\u001b[0m 454ms/step - accuracy: 0.2587 - loss: 1.5669 - val_accuracy: 0.2441 - val_loss: 1.5812\n",
            "Epoch 9/150\n",
            "\u001b[1m192/192\u001b[0m \u001b[32m━━━━━━━━━━━━━━━━━━━━\u001b[0m\u001b[37m\u001b[0m \u001b[1m90s\u001b[0m 455ms/step - accuracy: 0.2482 - loss: 1.5761 - val_accuracy: 0.2513 - val_loss: 1.5754\n",
            "Epoch 10/150\n",
            "\u001b[1m192/192\u001b[0m \u001b[32m━━━━━━━━━━━━━━━━━━━━\u001b[0m\u001b[37m\u001b[0m \u001b[1m90s\u001b[0m 456ms/step - accuracy: 0.2476 - loss: 1.5717 - val_accuracy: 0.2552 - val_loss: 1.5739\n"
          ]
        }
      ],
      "source": [
        "history = model2.fit(train_data,\n",
        "                    epochs=150,\n",
        "                    validation_data=validation_data,\n",
        "                    callbacks=callbacks)"
      ]
    },
    {
      "cell_type": "markdown",
      "metadata": {
        "id": "LSKRQUyGiX7d"
      },
      "source": [
        "### **Ensemble Method**"
      ]
    },
    {
      "cell_type": "code",
      "execution_count": null,
      "metadata": {
        "id": "Dy4pDQDDiX7d",
        "outputId": "5594f33b-2ea1-4875-e171-7b4ccc13fac7"
      },
      "outputs": [
        {
          "name": "stdout",
          "output_type": "stream",
          "text": [
            "Downloading data from https://storage.googleapis.com/tensorflow/keras-applications/inception_resnet_v2/inception_resnet_v2_weights_tf_dim_ordering_tf_kernels_notop.h5\n",
            "\u001b[1m219055592/219055592\u001b[0m \u001b[32m━━━━━━━━━━━━━━━━━━━━\u001b[0m\u001b[37m\u001b[0m \u001b[1m1s\u001b[0m 0us/step\n"
          ]
        },
        {
          "data": {
            "text/html": [
              "<pre style=\"white-space:pre;overflow-x:auto;line-height:normal;font-family:Menlo,'DejaVu Sans Mono',consolas,'Courier New',monospace\"><span style=\"font-weight: bold\">Model: \"functional_7\"</span>\n",
              "</pre>\n"
            ],
            "text/plain": [
              "\u001b[1mModel: \"functional_7\"\u001b[0m\n"
            ]
          },
          "metadata": {},
          "output_type": "display_data"
        },
        {
          "data": {
            "text/html": [
              "<pre style=\"white-space:pre;overflow-x:auto;line-height:normal;font-family:Menlo,'DejaVu Sans Mono',consolas,'Courier New',monospace\">┏━━━━━━━━━━━━━━━━━━━━━┳━━━━━━━━━━━━━━━━━━━┳━━━━━━━━━━━━┳━━━━━━━━━━━━━━━━━━━┓\n",
              "┃<span style=\"font-weight: bold\"> Layer (type)        </span>┃<span style=\"font-weight: bold\"> Output Shape      </span>┃<span style=\"font-weight: bold\">    Param # </span>┃<span style=\"font-weight: bold\"> Connected to      </span>┃\n",
              "┡━━━━━━━━━━━━━━━━━━━━━╇━━━━━━━━━━━━━━━━━━━╇━━━━━━━━━━━━╇━━━━━━━━━━━━━━━━━━━┩\n",
              "│ input_layer_14      │ (<span style=\"color: #00d7ff; text-decoration-color: #00d7ff\">None</span>, <span style=\"color: #00af00; text-decoration-color: #00af00\">224</span>, <span style=\"color: #00af00; text-decoration-color: #00af00\">224</span>,  │          <span style=\"color: #00af00; text-decoration-color: #00af00\">0</span> │ -                 │\n",
              "│ (<span style=\"color: #0087ff; text-decoration-color: #0087ff\">InputLayer</span>)        │ <span style=\"color: #00af00; text-decoration-color: #00af00\">3</span>)                │            │                   │\n",
              "├─────────────────────┼───────────────────┼────────────┼───────────────────┤\n",
              "│ vgg19 (<span style=\"color: #0087ff; text-decoration-color: #0087ff\">Functional</span>)  │ (<span style=\"color: #00d7ff; text-decoration-color: #00d7ff\">None</span>, <span style=\"color: #00af00; text-decoration-color: #00af00\">7</span>, <span style=\"color: #00af00; text-decoration-color: #00af00\">7</span>, <span style=\"color: #00af00; text-decoration-color: #00af00\">512</span>) │ <span style=\"color: #00af00; text-decoration-color: #00af00\">20,024,384</span> │ input_layer_14[<span style=\"color: #00af00; text-decoration-color: #00af00\">0</span>… │\n",
              "├─────────────────────┼───────────────────┼────────────┼───────────────────┤\n",
              "│ inception_resnet_v2 │ (<span style=\"color: #00d7ff; text-decoration-color: #00d7ff\">None</span>, <span style=\"color: #00af00; text-decoration-color: #00af00\">5</span>, <span style=\"color: #00af00; text-decoration-color: #00af00\">5</span>,      │ <span style=\"color: #00af00; text-decoration-color: #00af00\">54,336,736</span> │ input_layer_14[<span style=\"color: #00af00; text-decoration-color: #00af00\">0</span>… │\n",
              "│ (<span style=\"color: #0087ff; text-decoration-color: #0087ff\">Functional</span>)        │ <span style=\"color: #00af00; text-decoration-color: #00af00\">1536</span>)             │            │                   │\n",
              "├─────────────────────┼───────────────────┼────────────┼───────────────────┤\n",
              "│ conv2d_209 (<span style=\"color: #0087ff; text-decoration-color: #0087ff\">Conv2D</span>) │ (<span style=\"color: #00d7ff; text-decoration-color: #00d7ff\">None</span>, <span style=\"color: #00af00; text-decoration-color: #00af00\">7</span>, <span style=\"color: #00af00; text-decoration-color: #00af00\">7</span>, <span style=\"color: #00af00; text-decoration-color: #00af00\">256</span>) │  <span style=\"color: #00af00; text-decoration-color: #00af00\">1,179,904</span> │ vgg19[<span style=\"color: #00af00; text-decoration-color: #00af00\">0</span>][<span style=\"color: #00af00; text-decoration-color: #00af00\">0</span>]       │\n",
              "├─────────────────────┼───────────────────┼────────────┼───────────────────┤\n",
              "│ conv2d_210 (<span style=\"color: #0087ff; text-decoration-color: #0087ff\">Conv2D</span>) │ (<span style=\"color: #00d7ff; text-decoration-color: #00d7ff\">None</span>, <span style=\"color: #00af00; text-decoration-color: #00af00\">5</span>, <span style=\"color: #00af00; text-decoration-color: #00af00\">5</span>, <span style=\"color: #00af00; text-decoration-color: #00af00\">256</span>) │  <span style=\"color: #00af00; text-decoration-color: #00af00\">3,539,200</span> │ inception_resnet… │\n",
              "├─────────────────────┼───────────────────┼────────────┼───────────────────┤\n",
              "│ batch_normalizatio… │ (<span style=\"color: #00d7ff; text-decoration-color: #00d7ff\">None</span>, <span style=\"color: #00af00; text-decoration-color: #00af00\">7</span>, <span style=\"color: #00af00; text-decoration-color: #00af00\">7</span>, <span style=\"color: #00af00; text-decoration-color: #00af00\">256</span>) │      <span style=\"color: #00af00; text-decoration-color: #00af00\">1,024</span> │ conv2d_209[<span style=\"color: #00af00; text-decoration-color: #00af00\">0</span>][<span style=\"color: #00af00; text-decoration-color: #00af00\">0</span>]  │\n",
              "│ (<span style=\"color: #0087ff; text-decoration-color: #0087ff\">BatchNormalizatio…</span> │                   │            │                   │\n",
              "├─────────────────────┼───────────────────┼────────────┼───────────────────┤\n",
              "│ batch_normalizatio… │ (<span style=\"color: #00d7ff; text-decoration-color: #00d7ff\">None</span>, <span style=\"color: #00af00; text-decoration-color: #00af00\">5</span>, <span style=\"color: #00af00; text-decoration-color: #00af00\">5</span>, <span style=\"color: #00af00; text-decoration-color: #00af00\">256</span>) │      <span style=\"color: #00af00; text-decoration-color: #00af00\">1,024</span> │ conv2d_210[<span style=\"color: #00af00; text-decoration-color: #00af00\">0</span>][<span style=\"color: #00af00; text-decoration-color: #00af00\">0</span>]  │\n",
              "│ (<span style=\"color: #0087ff; text-decoration-color: #0087ff\">BatchNormalizatio…</span> │                   │            │                   │\n",
              "├─────────────────────┼───────────────────┼────────────┼───────────────────┤\n",
              "│ max_pooling2d_10    │ (<span style=\"color: #00d7ff; text-decoration-color: #00d7ff\">None</span>, <span style=\"color: #00af00; text-decoration-color: #00af00\">3</span>, <span style=\"color: #00af00; text-decoration-color: #00af00\">3</span>, <span style=\"color: #00af00; text-decoration-color: #00af00\">256</span>) │          <span style=\"color: #00af00; text-decoration-color: #00af00\">0</span> │ batch_normalizat… │\n",
              "│ (<span style=\"color: #0087ff; text-decoration-color: #0087ff\">MaxPooling2D</span>)      │                   │            │                   │\n",
              "├─────────────────────┼───────────────────┼────────────┼───────────────────┤\n",
              "│ max_pooling2d_11    │ (<span style=\"color: #00d7ff; text-decoration-color: #00d7ff\">None</span>, <span style=\"color: #00af00; text-decoration-color: #00af00\">2</span>, <span style=\"color: #00af00; text-decoration-color: #00af00\">2</span>, <span style=\"color: #00af00; text-decoration-color: #00af00\">256</span>) │          <span style=\"color: #00af00; text-decoration-color: #00af00\">0</span> │ batch_normalizat… │\n",
              "│ (<span style=\"color: #0087ff; text-decoration-color: #0087ff\">MaxPooling2D</span>)      │                   │            │                   │\n",
              "├─────────────────────┼───────────────────┼────────────┼───────────────────┤\n",
              "│ global_average_poo… │ (<span style=\"color: #00d7ff; text-decoration-color: #00d7ff\">None</span>, <span style=\"color: #00af00; text-decoration-color: #00af00\">256</span>)       │          <span style=\"color: #00af00; text-decoration-color: #00af00\">0</span> │ max_pooling2d_10… │\n",
              "│ (<span style=\"color: #0087ff; text-decoration-color: #0087ff\">GlobalAveragePool…</span> │                   │            │                   │\n",
              "├─────────────────────┼───────────────────┼────────────┼───────────────────┤\n",
              "│ global_average_poo… │ (<span style=\"color: #00d7ff; text-decoration-color: #00d7ff\">None</span>, <span style=\"color: #00af00; text-decoration-color: #00af00\">256</span>)       │          <span style=\"color: #00af00; text-decoration-color: #00af00\">0</span> │ max_pooling2d_11… │\n",
              "│ (<span style=\"color: #0087ff; text-decoration-color: #0087ff\">GlobalAveragePool…</span> │                   │            │                   │\n",
              "├─────────────────────┼───────────────────┼────────────┼───────────────────┤\n",
              "│ concatenate_3       │ (<span style=\"color: #00d7ff; text-decoration-color: #00d7ff\">None</span>, <span style=\"color: #00af00; text-decoration-color: #00af00\">512</span>)       │          <span style=\"color: #00af00; text-decoration-color: #00af00\">0</span> │ global_average_p… │\n",
              "│ (<span style=\"color: #0087ff; text-decoration-color: #0087ff\">Concatenate</span>)       │                   │            │ global_average_p… │\n",
              "├─────────────────────┼───────────────────┼────────────┼───────────────────┤\n",
              "│ batch_normalizatio… │ (<span style=\"color: #00d7ff; text-decoration-color: #00d7ff\">None</span>, <span style=\"color: #00af00; text-decoration-color: #00af00\">512</span>)       │      <span style=\"color: #00af00; text-decoration-color: #00af00\">2,048</span> │ concatenate_3[<span style=\"color: #00af00; text-decoration-color: #00af00\">0</span>]… │\n",
              "│ (<span style=\"color: #0087ff; text-decoration-color: #0087ff\">BatchNormalizatio…</span> │                   │            │                   │\n",
              "├─────────────────────┼───────────────────┼────────────┼───────────────────┤\n",
              "│ dense_6 (<span style=\"color: #0087ff; text-decoration-color: #0087ff\">Dense</span>)     │ (<span style=\"color: #00d7ff; text-decoration-color: #00d7ff\">None</span>, <span style=\"color: #00af00; text-decoration-color: #00af00\">200</span>)       │    <span style=\"color: #00af00; text-decoration-color: #00af00\">102,600</span> │ batch_normalizat… │\n",
              "├─────────────────────┼───────────────────┼────────────┼───────────────────┤\n",
              "│ dropout_3 (<span style=\"color: #0087ff; text-decoration-color: #0087ff\">Dropout</span>) │ (<span style=\"color: #00d7ff; text-decoration-color: #00d7ff\">None</span>, <span style=\"color: #00af00; text-decoration-color: #00af00\">200</span>)       │          <span style=\"color: #00af00; text-decoration-color: #00af00\">0</span> │ dense_6[<span style=\"color: #00af00; text-decoration-color: #00af00\">0</span>][<span style=\"color: #00af00; text-decoration-color: #00af00\">0</span>]     │\n",
              "├─────────────────────┼───────────────────┼────────────┼───────────────────┤\n",
              "│ dense_7 (<span style=\"color: #0087ff; text-decoration-color: #0087ff\">Dense</span>)     │ (<span style=\"color: #00d7ff; text-decoration-color: #00d7ff\">None</span>, <span style=\"color: #00af00; text-decoration-color: #00af00\">6</span>)         │      <span style=\"color: #00af00; text-decoration-color: #00af00\">1,206</span> │ dropout_3[<span style=\"color: #00af00; text-decoration-color: #00af00\">0</span>][<span style=\"color: #00af00; text-decoration-color: #00af00\">0</span>]   │\n",
              "└─────────────────────┴───────────────────┴────────────┴───────────────────┘\n",
              "</pre>\n"
            ],
            "text/plain": [
              "┏━━━━━━━━━━━━━━━━━━━━━┳━━━━━━━━━━━━━━━━━━━┳━━━━━━━━━━━━┳━━━━━━━━━━━━━━━━━━━┓\n",
              "┃\u001b[1m \u001b[0m\u001b[1mLayer (type)       \u001b[0m\u001b[1m \u001b[0m┃\u001b[1m \u001b[0m\u001b[1mOutput Shape     \u001b[0m\u001b[1m \u001b[0m┃\u001b[1m \u001b[0m\u001b[1m   Param #\u001b[0m\u001b[1m \u001b[0m┃\u001b[1m \u001b[0m\u001b[1mConnected to     \u001b[0m\u001b[1m \u001b[0m┃\n",
              "┡━━━━━━━━━━━━━━━━━━━━━╇━━━━━━━━━━━━━━━━━━━╇━━━━━━━━━━━━╇━━━━━━━━━━━━━━━━━━━┩\n",
              "│ input_layer_14      │ (\u001b[38;5;45mNone\u001b[0m, \u001b[38;5;34m224\u001b[0m, \u001b[38;5;34m224\u001b[0m,  │          \u001b[38;5;34m0\u001b[0m │ -                 │\n",
              "│ (\u001b[38;5;33mInputLayer\u001b[0m)        │ \u001b[38;5;34m3\u001b[0m)                │            │                   │\n",
              "├─────────────────────┼───────────────────┼────────────┼───────────────────┤\n",
              "│ vgg19 (\u001b[38;5;33mFunctional\u001b[0m)  │ (\u001b[38;5;45mNone\u001b[0m, \u001b[38;5;34m7\u001b[0m, \u001b[38;5;34m7\u001b[0m, \u001b[38;5;34m512\u001b[0m) │ \u001b[38;5;34m20,024,384\u001b[0m │ input_layer_14[\u001b[38;5;34m0\u001b[0m… │\n",
              "├─────────────────────┼───────────────────┼────────────┼───────────────────┤\n",
              "│ inception_resnet_v2 │ (\u001b[38;5;45mNone\u001b[0m, \u001b[38;5;34m5\u001b[0m, \u001b[38;5;34m5\u001b[0m,      │ \u001b[38;5;34m54,336,736\u001b[0m │ input_layer_14[\u001b[38;5;34m0\u001b[0m… │\n",
              "│ (\u001b[38;5;33mFunctional\u001b[0m)        │ \u001b[38;5;34m1536\u001b[0m)             │            │                   │\n",
              "├─────────────────────┼───────────────────┼────────────┼───────────────────┤\n",
              "│ conv2d_209 (\u001b[38;5;33mConv2D\u001b[0m) │ (\u001b[38;5;45mNone\u001b[0m, \u001b[38;5;34m7\u001b[0m, \u001b[38;5;34m7\u001b[0m, \u001b[38;5;34m256\u001b[0m) │  \u001b[38;5;34m1,179,904\u001b[0m │ vgg19[\u001b[38;5;34m0\u001b[0m][\u001b[38;5;34m0\u001b[0m]       │\n",
              "├─────────────────────┼───────────────────┼────────────┼───────────────────┤\n",
              "│ conv2d_210 (\u001b[38;5;33mConv2D\u001b[0m) │ (\u001b[38;5;45mNone\u001b[0m, \u001b[38;5;34m5\u001b[0m, \u001b[38;5;34m5\u001b[0m, \u001b[38;5;34m256\u001b[0m) │  \u001b[38;5;34m3,539,200\u001b[0m │ inception_resnet… │\n",
              "├─────────────────────┼───────────────────┼────────────┼───────────────────┤\n",
              "│ batch_normalizatio… │ (\u001b[38;5;45mNone\u001b[0m, \u001b[38;5;34m7\u001b[0m, \u001b[38;5;34m7\u001b[0m, \u001b[38;5;34m256\u001b[0m) │      \u001b[38;5;34m1,024\u001b[0m │ conv2d_209[\u001b[38;5;34m0\u001b[0m][\u001b[38;5;34m0\u001b[0m]  │\n",
              "│ (\u001b[38;5;33mBatchNormalizatio…\u001b[0m │                   │            │                   │\n",
              "├─────────────────────┼───────────────────┼────────────┼───────────────────┤\n",
              "│ batch_normalizatio… │ (\u001b[38;5;45mNone\u001b[0m, \u001b[38;5;34m5\u001b[0m, \u001b[38;5;34m5\u001b[0m, \u001b[38;5;34m256\u001b[0m) │      \u001b[38;5;34m1,024\u001b[0m │ conv2d_210[\u001b[38;5;34m0\u001b[0m][\u001b[38;5;34m0\u001b[0m]  │\n",
              "│ (\u001b[38;5;33mBatchNormalizatio…\u001b[0m │                   │            │                   │\n",
              "├─────────────────────┼───────────────────┼────────────┼───────────────────┤\n",
              "│ max_pooling2d_10    │ (\u001b[38;5;45mNone\u001b[0m, \u001b[38;5;34m3\u001b[0m, \u001b[38;5;34m3\u001b[0m, \u001b[38;5;34m256\u001b[0m) │          \u001b[38;5;34m0\u001b[0m │ batch_normalizat… │\n",
              "│ (\u001b[38;5;33mMaxPooling2D\u001b[0m)      │                   │            │                   │\n",
              "├─────────────────────┼───────────────────┼────────────┼───────────────────┤\n",
              "│ max_pooling2d_11    │ (\u001b[38;5;45mNone\u001b[0m, \u001b[38;5;34m2\u001b[0m, \u001b[38;5;34m2\u001b[0m, \u001b[38;5;34m256\u001b[0m) │          \u001b[38;5;34m0\u001b[0m │ batch_normalizat… │\n",
              "│ (\u001b[38;5;33mMaxPooling2D\u001b[0m)      │                   │            │                   │\n",
              "├─────────────────────┼───────────────────┼────────────┼───────────────────┤\n",
              "│ global_average_poo… │ (\u001b[38;5;45mNone\u001b[0m, \u001b[38;5;34m256\u001b[0m)       │          \u001b[38;5;34m0\u001b[0m │ max_pooling2d_10… │\n",
              "│ (\u001b[38;5;33mGlobalAveragePool…\u001b[0m │                   │            │                   │\n",
              "├─────────────────────┼───────────────────┼────────────┼───────────────────┤\n",
              "│ global_average_poo… │ (\u001b[38;5;45mNone\u001b[0m, \u001b[38;5;34m256\u001b[0m)       │          \u001b[38;5;34m0\u001b[0m │ max_pooling2d_11… │\n",
              "│ (\u001b[38;5;33mGlobalAveragePool…\u001b[0m │                   │            │                   │\n",
              "├─────────────────────┼───────────────────┼────────────┼───────────────────┤\n",
              "│ concatenate_3       │ (\u001b[38;5;45mNone\u001b[0m, \u001b[38;5;34m512\u001b[0m)       │          \u001b[38;5;34m0\u001b[0m │ global_average_p… │\n",
              "│ (\u001b[38;5;33mConcatenate\u001b[0m)       │                   │            │ global_average_p… │\n",
              "├─────────────────────┼───────────────────┼────────────┼───────────────────┤\n",
              "│ batch_normalizatio… │ (\u001b[38;5;45mNone\u001b[0m, \u001b[38;5;34m512\u001b[0m)       │      \u001b[38;5;34m2,048\u001b[0m │ concatenate_3[\u001b[38;5;34m0\u001b[0m]… │\n",
              "│ (\u001b[38;5;33mBatchNormalizatio…\u001b[0m │                   │            │                   │\n",
              "├─────────────────────┼───────────────────┼────────────┼───────────────────┤\n",
              "│ dense_6 (\u001b[38;5;33mDense\u001b[0m)     │ (\u001b[38;5;45mNone\u001b[0m, \u001b[38;5;34m200\u001b[0m)       │    \u001b[38;5;34m102,600\u001b[0m │ batch_normalizat… │\n",
              "├─────────────────────┼───────────────────┼────────────┼───────────────────┤\n",
              "│ dropout_3 (\u001b[38;5;33mDropout\u001b[0m) │ (\u001b[38;5;45mNone\u001b[0m, \u001b[38;5;34m200\u001b[0m)       │          \u001b[38;5;34m0\u001b[0m │ dense_6[\u001b[38;5;34m0\u001b[0m][\u001b[38;5;34m0\u001b[0m]     │\n",
              "├─────────────────────┼───────────────────┼────────────┼───────────────────┤\n",
              "│ dense_7 (\u001b[38;5;33mDense\u001b[0m)     │ (\u001b[38;5;45mNone\u001b[0m, \u001b[38;5;34m6\u001b[0m)         │      \u001b[38;5;34m1,206\u001b[0m │ dropout_3[\u001b[38;5;34m0\u001b[0m][\u001b[38;5;34m0\u001b[0m]   │\n",
              "└─────────────────────┴───────────────────┴────────────┴───────────────────┘\n"
            ]
          },
          "metadata": {},
          "output_type": "display_data"
        },
        {
          "data": {
            "text/html": [
              "<pre style=\"white-space:pre;overflow-x:auto;line-height:normal;font-family:Menlo,'DejaVu Sans Mono',consolas,'Courier New',monospace\"><span style=\"font-weight: bold\"> Total params: </span><span style=\"color: #00af00; text-decoration-color: #00af00\">79,188,126</span> (302.08 MB)\n",
              "</pre>\n"
            ],
            "text/plain": [
              "\u001b[1m Total params: \u001b[0m\u001b[38;5;34m79,188,126\u001b[0m (302.08 MB)\n"
            ]
          },
          "metadata": {},
          "output_type": "display_data"
        },
        {
          "data": {
            "text/html": [
              "<pre style=\"white-space:pre;overflow-x:auto;line-height:normal;font-family:Menlo,'DejaVu Sans Mono',consolas,'Courier New',monospace\"><span style=\"font-weight: bold\"> Trainable params: </span><span style=\"color: #00af00; text-decoration-color: #00af00\">59,101,150</span> (225.45 MB)\n",
              "</pre>\n"
            ],
            "text/plain": [
              "\u001b[1m Trainable params: \u001b[0m\u001b[38;5;34m59,101,150\u001b[0m (225.45 MB)\n"
            ]
          },
          "metadata": {},
          "output_type": "display_data"
        },
        {
          "data": {
            "text/html": [
              "<pre style=\"white-space:pre;overflow-x:auto;line-height:normal;font-family:Menlo,'DejaVu Sans Mono',consolas,'Courier New',monospace\"><span style=\"font-weight: bold\"> Non-trainable params: </span><span style=\"color: #00af00; text-decoration-color: #00af00\">20,086,976</span> (76.63 MB)\n",
              "</pre>\n"
            ],
            "text/plain": [
              "\u001b[1m Non-trainable params: \u001b[0m\u001b[38;5;34m20,086,976\u001b[0m (76.63 MB)\n"
            ]
          },
          "metadata": {},
          "output_type": "display_data"
        }
      ],
      "source": [
        "# Inputs\n",
        "input_tensor = layers.Input(shape=(224, 224, 3))\n",
        "\n",
        "# Pass the same input through both models\n",
        "x1 = base_model1(input_tensor)\n",
        "x2 = base_model4(input_tensor)\n",
        "\n",
        "# Add pooling layers\n",
        "x1 = layers.GlobalAveragePooling2D()(x1)\n",
        "x2 = layers.GlobalAveragePooling2D()(x2)\n",
        "\n",
        "# Concatenate the outputs\n",
        "concatenated = layers.Concatenate()([x1, x2])\n",
        "\n",
        "# Add custom layers on top\n",
        "x = layers.BatchNormalization()(concatenated)\n",
        "x = layers.Dense(200, activation='relu')(x)\n",
        "x = layers.Dropout(0.2)(x)\n",
        "final_output = layers.Dense(6, activation='softmax')(x)\n",
        "\n",
        "# Create the final model\n",
        "ensemble_model = Model(inputs=input_tensor, outputs=final_output)\n",
        "\n",
        "# Compile the model\n",
        "ensemble_model.compile(optimizer=tf.keras.optimizers.RMSprop(learning_rate=0.001), loss='categorical_crossentropy', metrics=['accuracy'])\n",
        "callbacks = [EarlyStopping(monitor='val_loss', patience=6, restore_best_weights=True)]\n",
        "# Model summary\n",
        "ensemble_model.summary()\n"
      ]
    },
    {
      "cell_type": "code",
      "execution_count": null,
      "metadata": {
        "id": "qiYppNn4iX7e",
        "outputId": "207e6627-fe16-49d3-ba1d-6dcb5d942afc"
      },
      "outputs": [
        {
          "name": "stdout",
          "output_type": "stream",
          "text": [
            "Epoch 1/10\n",
            "\u001b[1m192/192\u001b[0m \u001b[32m━━━━━━━━━━━━━━━━━━━━\u001b[0m\u001b[37m\u001b[0m \u001b[1m349s\u001b[0m 668ms/step - accuracy: 0.2220 - loss: 2.3138 - val_accuracy: 0.1914 - val_loss: nan\n",
            "Epoch 2/10\n",
            "\u001b[1m192/192\u001b[0m \u001b[32m━━━━━━━━━━━━━━━━━━━━\u001b[0m\u001b[37m\u001b[0m \u001b[1m119s\u001b[0m 601ms/step - accuracy: 0.2618 - loss: 1.7446 - val_accuracy: 0.2637 - val_loss: 1.6309\n",
            "Epoch 3/10\n",
            "\u001b[1m192/192\u001b[0m \u001b[32m━━━━━━━━━━━━━━━━━━━━\u001b[0m\u001b[37m\u001b[0m \u001b[1m121s\u001b[0m 611ms/step - accuracy: 0.2853 - loss: 1.6227 - val_accuracy: 0.2656 - val_loss: 2.2338\n",
            "Epoch 4/10\n",
            "\u001b[1m192/192\u001b[0m \u001b[32m━━━━━━━━━━━━━━━━━━━━\u001b[0m\u001b[37m\u001b[0m \u001b[1m119s\u001b[0m 599ms/step - accuracy: 0.3134 - loss: 1.5620 - val_accuracy: 0.2611 - val_loss: 1.6758\n",
            "Epoch 5/10\n",
            "\u001b[1m192/192\u001b[0m \u001b[32m━━━━━━━━━━━━━━━━━━━━\u001b[0m\u001b[37m\u001b[0m \u001b[1m120s\u001b[0m 606ms/step - accuracy: 0.3255 - loss: 1.5393 - val_accuracy: 0.2982 - val_loss: 2.1160\n",
            "Epoch 6/10\n",
            "\u001b[1m192/192\u001b[0m \u001b[32m━━━━━━━━━━━━━━━━━━━━\u001b[0m\u001b[37m\u001b[0m \u001b[1m141s\u001b[0m 601ms/step - accuracy: 0.3442 - loss: 1.5128 - val_accuracy: 0.2695 - val_loss: 2.9578\n",
            "Epoch 7/10\n",
            "\u001b[1m192/192\u001b[0m \u001b[32m━━━━━━━━━━━━━━━━━━━━\u001b[0m\u001b[37m\u001b[0m \u001b[1m119s\u001b[0m 602ms/step - accuracy: 0.3499 - loss: 1.4879 - val_accuracy: 0.2891 - val_loss: 1.8804\n",
            "Epoch 8/10\n",
            "\u001b[1m192/192\u001b[0m \u001b[32m━━━━━━━━━━━━━━━━━━━━\u001b[0m\u001b[37m\u001b[0m \u001b[1m119s\u001b[0m 601ms/step - accuracy: 0.3564 - loss: 1.4873 - val_accuracy: 0.2858 - val_loss: 1.6193\n",
            "Epoch 9/10\n",
            "\u001b[1m192/192\u001b[0m \u001b[32m━━━━━━━━━━━━━━━━━━━━\u001b[0m\u001b[37m\u001b[0m \u001b[1m117s\u001b[0m 591ms/step - accuracy: 0.3667 - loss: 1.4531 - val_accuracy: 0.2949 - val_loss: 1.7977\n",
            "Epoch 10/10\n",
            "\u001b[1m192/192\u001b[0m \u001b[32m━━━━━━━━━━━━━━━━━━━━\u001b[0m\u001b[37m\u001b[0m \u001b[1m118s\u001b[0m 596ms/step - accuracy: 0.3722 - loss: 1.4451 - val_accuracy: 0.2741 - val_loss: 2.1584\n"
          ]
        }
      ],
      "source": [
        "history = ensemble_model.fit(train_data,\n",
        "                    epochs=10,\n",
        "                    validation_data=validation_data,\n",
        "                    callbacks=callbacks)"
      ]
    },
    {
      "cell_type": "code",
      "execution_count": null,
      "metadata": {
        "id": "BNckYmNNiX7e",
        "outputId": "a0036bc1-0c8e-4817-bff7-bdb70eaf40f5"
      },
      "outputs": [
        {
          "name": "stdout",
          "output_type": "stream",
          "text": [
            "\u001b[1m60/60\u001b[0m \u001b[32m━━━━━━━━━━━━━━━━━━━━\u001b[0m\u001b[37m\u001b[0m \u001b[1m31s\u001b[0m 450ms/step\n"
          ]
        }
      ],
      "source": [
        "predictions = ensemble_model.predict(data_test)"
      ]
    },
    {
      "cell_type": "code",
      "execution_count": null,
      "metadata": {
        "id": "BxET-yCyiX7e"
      },
      "outputs": [],
      "source": [
        "stable_height = np.argmax(predictions, axis=1) + 1\n",
        "\n",
        "output = pd.DataFrame({\n",
        "    'id': test_data_df['id'],\n",
        "    'stable_height': stable_height\n",
        "})\n",
        "\n",
        "output.to_csv('/content/drive/MyDrive/Colab Notebooks/predictions_2.csv', index=False)"
      ]
    }
  ],
  "metadata": {
    "accelerator": "GPU",
    "colab": {
      "gpuType": "A100",
      "machine_shape": "hm",
      "provenance": []
    },
    "kaggle": {
      "accelerator": "gpu",
      "dataSources": [
        {
          "datasetId": 5873666,
          "sourceId": 9623080,
          "sourceType": "datasetVersion"
        }
      ],
      "dockerImageVersionId": 30787,
      "isGpuEnabled": true,
      "isInternetEnabled": true,
      "language": "python",
      "sourceType": "notebook"
    },
    "kernelspec": {
      "display_name": "Python 3",
      "name": "python3"
    },
    "language_info": {
      "codemirror_mode": {
        "name": "ipython",
        "version": 3
      },
      "file_extension": ".py",
      "mimetype": "text/x-python",
      "name": "python",
      "nbconvert_exporter": "python",
      "pygments_lexer": "ipython3",
      "version": "3.10.14"
    }
  },
  "nbformat": 4,
  "nbformat_minor": 0
}
